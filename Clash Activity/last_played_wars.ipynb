{
 "metadata": {
  "language_info": {
   "codemirror_mode": {
    "name": "ipython",
    "version": 3
   },
   "file_extension": ".py",
   "mimetype": "text/x-python",
   "name": "python",
   "nbconvert_exporter": "python",
   "pygments_lexer": "ipython3",
   "version": "3.7.10"
  },
  "orig_nbformat": 2,
  "kernelspec": {
   "name": "python3",
   "display_name": "Python 3.7.10 64-bit ('myenv': conda)"
  },
  "interpreter": {
   "hash": "361fd69f2f8dc49184db1980cd15f5ed8d74153e7acf52622b1a7fcda2fa9a08"
  }
 },
 "nbformat": 4,
 "nbformat_minor": 2,
 "cells": [
  {
   "cell_type": "code",
   "execution_count": 1,
   "metadata": {},
   "outputs": [],
   "source": [
    "import pandas as pd \n",
    "import numpy as np \n",
    "import datetime as datetime"
   ]
  },
  {
   "cell_type": "code",
   "execution_count": 2,
   "metadata": {},
   "outputs": [
    {
     "output_type": "execute_result",
     "data": {
      "text/plain": [
       "             Name         Tag   Last War  Town Hall             Clan  \\\n",
       "0        marleigh   #QGCLV2J0  5/25/2021         11      Sheer Force   \n",
       "1       Kismet_27  #Q0L0VY0PQ  5/25/2021          9      Sheer Force   \n",
       "2            ZARD   #LJ92JJ8Q  5/25/2021         10      Sheer Force   \n",
       "3       Dry Dream  #LVY9R20CR  5/25/2021         10  Legendary Monks   \n",
       "4  littlesonshine   #RCV08YPR  5/25/2021         12      Sheer Force   \n",
       "\n",
       "   Total Wars  \n",
       "0          11  \n",
       "1          27  \n",
       "2          12  \n",
       "3          22  \n",
       "4          29  "
      ],
      "text/html": "<div>\n<style scoped>\n    .dataframe tbody tr th:only-of-type {\n        vertical-align: middle;\n    }\n\n    .dataframe tbody tr th {\n        vertical-align: top;\n    }\n\n    .dataframe thead th {\n        text-align: right;\n    }\n</style>\n<table border=\"1\" class=\"dataframe\">\n  <thead>\n    <tr style=\"text-align: right;\">\n      <th></th>\n      <th>Name</th>\n      <th>Tag</th>\n      <th>Last War</th>\n      <th>Town Hall</th>\n      <th>Clan</th>\n      <th>Total Wars</th>\n    </tr>\n  </thead>\n  <tbody>\n    <tr>\n      <th>0</th>\n      <td>marleigh</td>\n      <td>#QGCLV2J0</td>\n      <td>5/25/2021</td>\n      <td>11</td>\n      <td>Sheer Force</td>\n      <td>11</td>\n    </tr>\n    <tr>\n      <th>1</th>\n      <td>Kismet_27</td>\n      <td>#Q0L0VY0PQ</td>\n      <td>5/25/2021</td>\n      <td>9</td>\n      <td>Sheer Force</td>\n      <td>27</td>\n    </tr>\n    <tr>\n      <th>2</th>\n      <td>ZARD</td>\n      <td>#LJ92JJ8Q</td>\n      <td>5/25/2021</td>\n      <td>10</td>\n      <td>Sheer Force</td>\n      <td>12</td>\n    </tr>\n    <tr>\n      <th>3</th>\n      <td>Dry Dream</td>\n      <td>#LVY9R20CR</td>\n      <td>5/25/2021</td>\n      <td>10</td>\n      <td>Legendary Monks</td>\n      <td>22</td>\n    </tr>\n    <tr>\n      <th>4</th>\n      <td>littlesonshine</td>\n      <td>#RCV08YPR</td>\n      <td>5/25/2021</td>\n      <td>12</td>\n      <td>Sheer Force</td>\n      <td>29</td>\n    </tr>\n  </tbody>\n</table>\n</div>"
     },
     "metadata": {},
     "execution_count": 2
    }
   ],
   "source": [
    "#read in last_played_wars csv\n",
    "last_played_wars = pd.read_csv(\"updated_last_played_wars.csv\")\n",
    "#read in roster\n",
    "roster = pd.read_csv(\"fullroster.csv\") #sheerforce edit\n",
    "roster.columns = [\"Tag\", \"Name\", \"Town Hall\", \"Clan\"]\n",
    "#last_played_wars = last_played_wars.drop(columns = [\"Total Wars\"])\n",
    "\n",
    "# last_played_wars[\"Participation\"] = last_played_wars[\"Joined Wars\"] / last_played_wars[\"Total Wars\"]\n",
    "last_played_wars = last_played_wars[[\"Name\", \"Tag\", \"Last War\", \"Town Hall\", \"Clan\", \"Total Wars\"]]\n",
    "last_played_wars.head()\n"
   ]
  },
  {
   "cell_type": "code",
   "execution_count": 4,
   "metadata": {},
   "outputs": [],
   "source": [
    "#Split Last Played Wars by clan\n",
    "#Sheer Force\n",
    "\n",
    "#Create a copy of Sheer Force only to manipulate\n",
    "sf_lpw = last_played_wars.loc[last_played_wars.Clan == \"Sheer Force\"].copy()\n",
    "#Joined Wars of clan member\n",
    "sf_lpw[\"Joined Wars\"] = sf_lpw[\"Total Wars\"]\n",
    "#get maximum number of wars this season\n",
    "sf_max = sf_lpw[\"Total Wars\"].max()\n",
    "sf_lpw[\"Total Wars\"] = sf_max\n",
    "#find participation of members\n",
    "sf_lpw[\"Participation\"] = sf_lpw[\"Joined Wars\"]/sf_max\n",
    "#get < 50% participation members and add to slackers\n",
    "sheer_force_slackers = sf_lpw.loc[sf_lpw.Participation < .5].copy()\n",
    "sheer_force_slackers.head()\n",
    "sf = sheer_force_slackers.to_csv(r\"C:\\Users\\tiz081\\Documents\\Clash\\Clash Activity\\sf.csv\", index = True, header = True)"
   ]
  },
  {
   "cell_type": "code",
   "execution_count": 5,
   "metadata": {},
   "outputs": [],
   "source": [
    "#Dark Matter\n",
    "dm_lpw = last_played_wars.loc[last_played_wars.Clan == \"Dark Matter\"].copy()\n",
    "dm_lpw[\"Joined Wars\"] = dm_lpw[\"Total Wars\"]\n",
    "dm_max = dm_lpw[\"Total Wars\"].max()\n",
    "dm_lpw[\"Total Wars\"] = dm_max\n",
    "dm_lpw[\"Participation\"] = dm_lpw[\"Joined Wars\"]/dm_max\n",
    "dark_matter_slackers = dm_lpw.loc[dm_lpw.Participation < .5].copy()\n",
    "dark_matter_slackers.head()\n",
    "dm = dark_matter_slackers.to_csv(r\"C:\\Users\\tiz081\\Documents\\Clash\\Clash Activity\\dm.csv\", index = True, header = True)"
   ]
  },
  {
   "cell_type": "code",
   "execution_count": 6,
   "metadata": {},
   "outputs": [],
   "source": [
    "#Mini Matter\n",
    "mm_lpw = last_played_wars.loc[last_played_wars.Clan == \"Mini Matter\"].copy()\n",
    "mm_lpw[\"Joined Wars\"] = mm_lpw[\"Total Wars\"]\n",
    "mm_max = mm_lpw[\"Total Wars\"].max()\n",
    "mm_lpw[\"Total Wars\"] = mm_max\n",
    "mm_lpw[\"Participation\"] = mm_lpw[\"Joined Wars\"]/mm_max\n",
    "mini_matter_slackers = mm_lpw.loc[mm_lpw.Participation < .5].copy()\n",
    "mini_matter_slackers.head()\n",
    "mm = mini_matter_slackers.to_csv(r\"C:\\Users\\tiz081\\Documents\\Clash\\Clash Activity\\mm.csv\", index = True, header = True)"
   ]
  },
  {
   "cell_type": "code",
   "execution_count": 7,
   "metadata": {},
   "outputs": [],
   "source": [
    "#Legendary Monks\n",
    "lm_lpw = last_played_wars.loc[last_played_wars.Clan == \"Legendary Monks\"].copy()\n",
    "lm_lpw[\"Joined Wars\"] = lm_lpw[\"Total Wars\"]\n",
    "lm_max = lm_lpw[\"Total Wars\"].max()\n",
    "lm_lpw[\"Total Wars\"] = lm_max\n",
    "lm_lpw[\"Participation\"] = lm_lpw[\"Joined Wars\"]/lm_max\n",
    "legendary_monks_slackers = lm_lpw.loc[lm_lpw.Participation < .5].copy()\n",
    "legendary_monks_slackers.head()\n",
    "lm = legendary_monks_slackers.to_csv(r\"C:\\Users\\tiz081\\Documents\\Clash\\Clash Activity\\lm.csv\", index = True, header = True)"
   ]
  },
  {
   "cell_type": "code",
   "execution_count": null,
   "metadata": {},
   "outputs": [],
   "source": [
    "#Killer black WF\n",
    "#Legendary Monks\n",
    "kbwf_lpw = last_played_wars.loc[last_played_wars.Clan == \"Killer_Black_Wf\"].copy()\n",
    "kbwf_lpw[\"Joined Wars\"] = kbwf_lpw[\"Total Wars\"]\n",
    "kbwf_max = kbwf_lpw[\"Total Wars\"].max()\n",
    "kbwf_lpw[\"Total Wars\"] = kbwf_max\n",
    "kbwf_lpw[\"Participation\"] = kbwf_lpw[\"Joined Wars\"]/kbwf_max\n",
    "killer_black_slackers = kbwf_lpw.loc[kbwf_lpw.Participation < .5].copy()\n",
    "killer_black_slackers.head()\n",
    "kbwf = killer_black_slackers.to_csv(r\"C:\\Users\\tiz081\\Documents\\Clash\\Clash Activity\\kbwf.csv\", index = True, header = True)"
   ]
  }
 ]
}