{
 "metadata": {
  "language_info": {
   "codemirror_mode": {
    "name": "ipython",
    "version": 3
   },
   "file_extension": ".py",
   "mimetype": "text/x-python",
   "name": "python",
   "nbconvert_exporter": "python",
   "pygments_lexer": "ipython3",
   "version": "3.7.10"
  },
  "orig_nbformat": 2,
  "kernelspec": {
   "name": "python3710jvsc74a57bd0361fd69f2f8dc49184db1980cd15f5ed8d74153e7acf52622b1a7fcda2fa9a08",
   "display_name": "Python 3.7.10 64-bit ('myenv': conda)"
  }
 },
 "nbformat": 4,
 "nbformat_minor": 2,
 "cells": [
  {
   "cell_type": "code",
   "execution_count": 2,
   "metadata": {},
   "outputs": [],
   "source": [
    "import pandas as pd \n",
    "import numpy as np \n",
    "import datetime as datetime"
   ]
  },
  {
   "cell_type": "code",
   "execution_count": 7,
   "metadata": {},
   "outputs": [
    {
     "output_type": "execute_result",
     "data": {
      "text/plain": [
       "             Name         Tag   Last War  Town Hall             Clan  \\\n",
       "0        marleigh   #QGCLV2J0  5/25/2021         11      Sheer Force   \n",
       "1       Kismet_27  #Q0L0VY0PQ  5/25/2021          9      Sheer Force   \n",
       "2            ZARD   #LJ92JJ8Q  5/25/2021         10      Sheer Force   \n",
       "3       Dry Dream  #LVY9R20CR  5/25/2021         10  Legendary Monks   \n",
       "4  littlesonshine   #RCV08YPR  5/25/2021         12      Sheer Force   \n",
       "\n",
       "   Total Wars  \n",
       "0          11  \n",
       "1          27  \n",
       "2          12  \n",
       "3          22  \n",
       "4          29  "
      ],
      "text/html": "<div>\n<style scoped>\n    .dataframe tbody tr th:only-of-type {\n        vertical-align: middle;\n    }\n\n    .dataframe tbody tr th {\n        vertical-align: top;\n    }\n\n    .dataframe thead th {\n        text-align: right;\n    }\n</style>\n<table border=\"1\" class=\"dataframe\">\n  <thead>\n    <tr style=\"text-align: right;\">\n      <th></th>\n      <th>Name</th>\n      <th>Tag</th>\n      <th>Last War</th>\n      <th>Town Hall</th>\n      <th>Clan</th>\n      <th>Total Wars</th>\n    </tr>\n  </thead>\n  <tbody>\n    <tr>\n      <th>0</th>\n      <td>marleigh</td>\n      <td>#QGCLV2J0</td>\n      <td>5/25/2021</td>\n      <td>11</td>\n      <td>Sheer Force</td>\n      <td>11</td>\n    </tr>\n    <tr>\n      <th>1</th>\n      <td>Kismet_27</td>\n      <td>#Q0L0VY0PQ</td>\n      <td>5/25/2021</td>\n      <td>9</td>\n      <td>Sheer Force</td>\n      <td>27</td>\n    </tr>\n    <tr>\n      <th>2</th>\n      <td>ZARD</td>\n      <td>#LJ92JJ8Q</td>\n      <td>5/25/2021</td>\n      <td>10</td>\n      <td>Sheer Force</td>\n      <td>12</td>\n    </tr>\n    <tr>\n      <th>3</th>\n      <td>Dry Dream</td>\n      <td>#LVY9R20CR</td>\n      <td>5/25/2021</td>\n      <td>10</td>\n      <td>Legendary Monks</td>\n      <td>22</td>\n    </tr>\n    <tr>\n      <th>4</th>\n      <td>littlesonshine</td>\n      <td>#RCV08YPR</td>\n      <td>5/25/2021</td>\n      <td>12</td>\n      <td>Sheer Force</td>\n      <td>29</td>\n    </tr>\n  </tbody>\n</table>\n</div>"
     },
     "metadata": {},
     "execution_count": 7
    }
   ],
   "source": [
    "#read in last_played_wars csv\n",
    "last_played_wars = pd.read_csv(\"updated_last_played_wars.csv\")\n",
    "#read in roster\n",
    "roster = pd.read_csv(\"fullroster.csv\") #sheerforce edit\n",
    "roster.columns = [\"Tag\", \"Name\", \"Town Hall\", \"Clan\"]\n",
    "#last_played_wars = last_played_wars.drop(columns = [\"Total Wars\"])\n",
    "\n",
    "# last_played_wars[\"Participation\"] = last_played_wars[\"Joined Wars\"] / last_played_wars[\"Total Wars\"]\n",
    "last_played_wars = last_played_wars[[\"Name\", \"Tag\", \"Last War\", \"Town Hall\", \"Clan\", \"Total Wars\"]]\n",
    "last_played_wars.head()\n"
   ]
  },
  {
   "cell_type": "code",
   "execution_count": 32,
   "metadata": {},
   "outputs": [],
   "source": [
    "#Split Last Played Wars by clan\n",
    "#Sheer Force\n",
    "\n",
    "#Create a copy of Sheer Force only to manipulate\n",
    "sf_lpw = last_played_wars.loc[last_played_wars.Clan == \"Sheer Force\"].copy()\n",
    "#Joined Wars of clan member\n",
    "sf_lpw[\"Joined Wars\"] = sf_lpw[\"Total Wars\"]\n",
    "#get maximum number of wars this season\n",
    "sf_max = sf_lpw[\"Total Wars\"].max()\n",
    "sf_lpw[\"Total Wars\"] = sf_max\n",
    "#find participation of members\n",
    "sf_lpw[\"Participation\"] = sf_lpw[\"Joined Wars\"]/sf_max\n",
    "#get < 50% participation members and add to slackers\n",
    "sheer_force_slackers = sf_lpw.loc[sf_lpw.Participation < .5].copy()\n",
    "sheer_force_slackers\n",
    "sf = sheer_force_slackers.to_csv(r\"C:\\Users\\tiz081\\Documents\\Clash\\Clash Activity\\sf.csv\", index = True, header = True)"
   ]
  },
  {
   "cell_type": "code",
   "execution_count": 34,
   "metadata": {},
   "outputs": [],
   "source": [
    "#Dark Matter\n",
    "dm_lpw = last_played_wars.loc[last_played_wars.Clan == \"Dark Matter\"].copy()\n",
    "dm_lpw[\"Joined Wars\"] = dm_lpw[\"Total Wars\"]\n",
    "dm_max = dm_lpw[\"Total Wars\"].max()\n",
    "dm_lpw[\"Total Wars\"] = dm_max\n",
    "dm_lpw[\"Participation\"] = dm_lpw[\"Joined Wars\"]/dm_max\n",
    "dark_matter_slackers = dm_lpw.loc[dm_lpw.Participation < .5].copy()\n",
    "dark_matter_slackers\n",
    "dm = dark_matter_slackers.to_csv(r\"C:\\Users\\tiz081\\Documents\\Clash\\Clash Activity\\dm.csv\", index = True, header = True)"
   ]
  },
  {
   "cell_type": "code",
   "execution_count": 39,
   "metadata": {},
   "outputs": [
    {
     "output_type": "execute_result",
     "data": {
      "text/plain": [
       "                Name         Tag   Last War  Town Hall         Clan  \\\n",
       "90            goblin  #Q0CGY89Y2  5/23/2021          6  Mini Matter   \n",
       "91   Alex The Strong  #Q9PU2PJJL  5/23/2021          6  Mini Matter   \n",
       "92             edgar  #QY02090U2  5/23/2021          3  Mini Matter   \n",
       "93          Krakatoa  #Q2UQQPGPP  5/23/2021          5  Mini Matter   \n",
       "94            Kinoko  #Q00VVVL9U  5/23/2021          6  Mini Matter   \n",
       "97             Sammy  #Q8YLU0CUL  5/23/2021          4  Mini Matter   \n",
       "98           Cytosed  #QP90VG0VC  5/23/2021          6  Mini Matter   \n",
       "100         Dream v2  #Q9PC8PJYJ  5/23/2021          5  Mini Matter   \n",
       "102       Doorman SP  #L20CJU9C0  5/23/2021          3  Mini Matter   \n",
       "103  Elder's DoorMan  #YRCJ9L80R  5/23/2021          6  Mini Matter   \n",
       "105          Jimbooo  #QPPCJ8RJ8  5/23/2021          6  Mini Matter   \n",
       "138       Sarge Luca  #QPR9CP8PY  5/17/2021          6  Mini Matter   \n",
       "147   Alex The Brave  #Q8YQ0CCQ2  4/27/2021          6  Mini Matter   \n",
       "160      Jumbo Snack  #LVU80LJ2J   4/1/2021          4  Mini Matter   \n",
       "162    Fruit Blender  #Q8CVC29LU   4/1/2021          3  Mini Matter   \n",
       "165     Fruit Gummie  #Q28JPV8Y2  3/30/2021          3  Mini Matter   \n",
       "199      mini string    #PUYCRJC        NaN         14  Mini Matter   \n",
       "200           justus  #Q9J8R2JQL        NaN          6  Mini Matter   \n",
       "201       Karuko 4.0  #QPQCLG809        NaN          4  Mini Matter   \n",
       "202     Elite_Potato  #LCQ8JVJQ9        NaN          5  Mini Matter   \n",
       "203             noah  #Q9JRVQVQG        NaN          4  Mini Matter   \n",
       "204            carlo  #QY0VYLL8G        NaN          4  Mini Matter   \n",
       "205      Act Natural  #8Q0LPUQ2V        NaN          5  Mini Matter   \n",
       "206           Colt45  #Q99GRP0CQ        NaN          4  Mini Matter   \n",
       "207          candice  #Q0VRJGQ9P        NaN          5  Mini Matter   \n",
       "208        Confather  #Q28LL8JCL        NaN          4  Mini Matter   \n",
       "209   Fruit Smoothie  #Q2LUVJQPL        NaN          3  Mini Matter   \n",
       "210       Liquid Gas  #80RJQ8RRQ        NaN          3  Mini Matter   \n",
       "211      Peek a chew  #LR0Q9LJRU        NaN          3  Mini Matter   \n",
       "212      Bulb a Sore  #L8VJ80JP2        NaN          3  Mini Matter   \n",
       "\n",
       "     Total Wars  Joined Wars  Participation  \n",
       "90           27            5       0.185185  \n",
       "91           27            9       0.333333  \n",
       "92           27            1       0.037037  \n",
       "93           27            8       0.296296  \n",
       "94           27           12       0.444444  \n",
       "97           27            1       0.037037  \n",
       "98           27            1       0.037037  \n",
       "100          27           13       0.481481  \n",
       "102          27           11       0.407407  \n",
       "103          27           11       0.407407  \n",
       "105          27            2       0.074074  \n",
       "138          27            6       0.222222  \n",
       "147          27            7       0.259259  \n",
       "160          27            8       0.296296  \n",
       "162          27            9       0.333333  \n",
       "165          27            7       0.259259  \n",
       "199          27            0       0.000000  \n",
       "200          27            0       0.000000  \n",
       "201          27            0       0.000000  \n",
       "202          27            0       0.000000  \n",
       "203          27            0       0.000000  \n",
       "204          27            0       0.000000  \n",
       "205          27            0       0.000000  \n",
       "206          27            0       0.000000  \n",
       "207          27            0       0.000000  \n",
       "208          27            0       0.000000  \n",
       "209          27            0       0.000000  \n",
       "210          27            0       0.000000  \n",
       "211          27            0       0.000000  \n",
       "212          27            0       0.000000  "
      ],
      "text/html": "<div>\n<style scoped>\n    .dataframe tbody tr th:only-of-type {\n        vertical-align: middle;\n    }\n\n    .dataframe tbody tr th {\n        vertical-align: top;\n    }\n\n    .dataframe thead th {\n        text-align: right;\n    }\n</style>\n<table border=\"1\" class=\"dataframe\">\n  <thead>\n    <tr style=\"text-align: right;\">\n      <th></th>\n      <th>Name</th>\n      <th>Tag</th>\n      <th>Last War</th>\n      <th>Town Hall</th>\n      <th>Clan</th>\n      <th>Total Wars</th>\n      <th>Joined Wars</th>\n      <th>Participation</th>\n    </tr>\n  </thead>\n  <tbody>\n    <tr>\n      <th>90</th>\n      <td>goblin</td>\n      <td>#Q0CGY89Y2</td>\n      <td>5/23/2021</td>\n      <td>6</td>\n      <td>Mini Matter</td>\n      <td>27</td>\n      <td>5</td>\n      <td>0.185185</td>\n    </tr>\n    <tr>\n      <th>91</th>\n      <td>Alex The Strong</td>\n      <td>#Q9PU2PJJL</td>\n      <td>5/23/2021</td>\n      <td>6</td>\n      <td>Mini Matter</td>\n      <td>27</td>\n      <td>9</td>\n      <td>0.333333</td>\n    </tr>\n    <tr>\n      <th>92</th>\n      <td>edgar</td>\n      <td>#QY02090U2</td>\n      <td>5/23/2021</td>\n      <td>3</td>\n      <td>Mini Matter</td>\n      <td>27</td>\n      <td>1</td>\n      <td>0.037037</td>\n    </tr>\n    <tr>\n      <th>93</th>\n      <td>Krakatoa</td>\n      <td>#Q2UQQPGPP</td>\n      <td>5/23/2021</td>\n      <td>5</td>\n      <td>Mini Matter</td>\n      <td>27</td>\n      <td>8</td>\n      <td>0.296296</td>\n    </tr>\n    <tr>\n      <th>94</th>\n      <td>Kinoko</td>\n      <td>#Q00VVVL9U</td>\n      <td>5/23/2021</td>\n      <td>6</td>\n      <td>Mini Matter</td>\n      <td>27</td>\n      <td>12</td>\n      <td>0.444444</td>\n    </tr>\n    <tr>\n      <th>97</th>\n      <td>Sammy</td>\n      <td>#Q8YLU0CUL</td>\n      <td>5/23/2021</td>\n      <td>4</td>\n      <td>Mini Matter</td>\n      <td>27</td>\n      <td>1</td>\n      <td>0.037037</td>\n    </tr>\n    <tr>\n      <th>98</th>\n      <td>Cytosed</td>\n      <td>#QP90VG0VC</td>\n      <td>5/23/2021</td>\n      <td>6</td>\n      <td>Mini Matter</td>\n      <td>27</td>\n      <td>1</td>\n      <td>0.037037</td>\n    </tr>\n    <tr>\n      <th>100</th>\n      <td>Dream v2</td>\n      <td>#Q9PC8PJYJ</td>\n      <td>5/23/2021</td>\n      <td>5</td>\n      <td>Mini Matter</td>\n      <td>27</td>\n      <td>13</td>\n      <td>0.481481</td>\n    </tr>\n    <tr>\n      <th>102</th>\n      <td>Doorman SP</td>\n      <td>#L20CJU9C0</td>\n      <td>5/23/2021</td>\n      <td>3</td>\n      <td>Mini Matter</td>\n      <td>27</td>\n      <td>11</td>\n      <td>0.407407</td>\n    </tr>\n    <tr>\n      <th>103</th>\n      <td>Elder's DoorMan</td>\n      <td>#YRCJ9L80R</td>\n      <td>5/23/2021</td>\n      <td>6</td>\n      <td>Mini Matter</td>\n      <td>27</td>\n      <td>11</td>\n      <td>0.407407</td>\n    </tr>\n    <tr>\n      <th>105</th>\n      <td>Jimbooo</td>\n      <td>#QPPCJ8RJ8</td>\n      <td>5/23/2021</td>\n      <td>6</td>\n      <td>Mini Matter</td>\n      <td>27</td>\n      <td>2</td>\n      <td>0.074074</td>\n    </tr>\n    <tr>\n      <th>138</th>\n      <td>Sarge Luca</td>\n      <td>#QPR9CP8PY</td>\n      <td>5/17/2021</td>\n      <td>6</td>\n      <td>Mini Matter</td>\n      <td>27</td>\n      <td>6</td>\n      <td>0.222222</td>\n    </tr>\n    <tr>\n      <th>147</th>\n      <td>Alex The Brave</td>\n      <td>#Q8YQ0CCQ2</td>\n      <td>4/27/2021</td>\n      <td>6</td>\n      <td>Mini Matter</td>\n      <td>27</td>\n      <td>7</td>\n      <td>0.259259</td>\n    </tr>\n    <tr>\n      <th>160</th>\n      <td>Jumbo Snack</td>\n      <td>#LVU80LJ2J</td>\n      <td>4/1/2021</td>\n      <td>4</td>\n      <td>Mini Matter</td>\n      <td>27</td>\n      <td>8</td>\n      <td>0.296296</td>\n    </tr>\n    <tr>\n      <th>162</th>\n      <td>Fruit Blender</td>\n      <td>#Q8CVC29LU</td>\n      <td>4/1/2021</td>\n      <td>3</td>\n      <td>Mini Matter</td>\n      <td>27</td>\n      <td>9</td>\n      <td>0.333333</td>\n    </tr>\n    <tr>\n      <th>165</th>\n      <td>Fruit Gummie</td>\n      <td>#Q28JPV8Y2</td>\n      <td>3/30/2021</td>\n      <td>3</td>\n      <td>Mini Matter</td>\n      <td>27</td>\n      <td>7</td>\n      <td>0.259259</td>\n    </tr>\n    <tr>\n      <th>199</th>\n      <td>mini string</td>\n      <td>#PUYCRJC</td>\n      <td>NaN</td>\n      <td>14</td>\n      <td>Mini Matter</td>\n      <td>27</td>\n      <td>0</td>\n      <td>0.000000</td>\n    </tr>\n    <tr>\n      <th>200</th>\n      <td>justus</td>\n      <td>#Q9J8R2JQL</td>\n      <td>NaN</td>\n      <td>6</td>\n      <td>Mini Matter</td>\n      <td>27</td>\n      <td>0</td>\n      <td>0.000000</td>\n    </tr>\n    <tr>\n      <th>201</th>\n      <td>Karuko 4.0</td>\n      <td>#QPQCLG809</td>\n      <td>NaN</td>\n      <td>4</td>\n      <td>Mini Matter</td>\n      <td>27</td>\n      <td>0</td>\n      <td>0.000000</td>\n    </tr>\n    <tr>\n      <th>202</th>\n      <td>Elite_Potato</td>\n      <td>#LCQ8JVJQ9</td>\n      <td>NaN</td>\n      <td>5</td>\n      <td>Mini Matter</td>\n      <td>27</td>\n      <td>0</td>\n      <td>0.000000</td>\n    </tr>\n    <tr>\n      <th>203</th>\n      <td>noah</td>\n      <td>#Q9JRVQVQG</td>\n      <td>NaN</td>\n      <td>4</td>\n      <td>Mini Matter</td>\n      <td>27</td>\n      <td>0</td>\n      <td>0.000000</td>\n    </tr>\n    <tr>\n      <th>204</th>\n      <td>carlo</td>\n      <td>#QY0VYLL8G</td>\n      <td>NaN</td>\n      <td>4</td>\n      <td>Mini Matter</td>\n      <td>27</td>\n      <td>0</td>\n      <td>0.000000</td>\n    </tr>\n    <tr>\n      <th>205</th>\n      <td>Act Natural</td>\n      <td>#8Q0LPUQ2V</td>\n      <td>NaN</td>\n      <td>5</td>\n      <td>Mini Matter</td>\n      <td>27</td>\n      <td>0</td>\n      <td>0.000000</td>\n    </tr>\n    <tr>\n      <th>206</th>\n      <td>Colt45</td>\n      <td>#Q99GRP0CQ</td>\n      <td>NaN</td>\n      <td>4</td>\n      <td>Mini Matter</td>\n      <td>27</td>\n      <td>0</td>\n      <td>0.000000</td>\n    </tr>\n    <tr>\n      <th>207</th>\n      <td>candice</td>\n      <td>#Q0VRJGQ9P</td>\n      <td>NaN</td>\n      <td>5</td>\n      <td>Mini Matter</td>\n      <td>27</td>\n      <td>0</td>\n      <td>0.000000</td>\n    </tr>\n    <tr>\n      <th>208</th>\n      <td>Confather</td>\n      <td>#Q28LL8JCL</td>\n      <td>NaN</td>\n      <td>4</td>\n      <td>Mini Matter</td>\n      <td>27</td>\n      <td>0</td>\n      <td>0.000000</td>\n    </tr>\n    <tr>\n      <th>209</th>\n      <td>Fruit Smoothie</td>\n      <td>#Q2LUVJQPL</td>\n      <td>NaN</td>\n      <td>3</td>\n      <td>Mini Matter</td>\n      <td>27</td>\n      <td>0</td>\n      <td>0.000000</td>\n    </tr>\n    <tr>\n      <th>210</th>\n      <td>Liquid Gas</td>\n      <td>#80RJQ8RRQ</td>\n      <td>NaN</td>\n      <td>3</td>\n      <td>Mini Matter</td>\n      <td>27</td>\n      <td>0</td>\n      <td>0.000000</td>\n    </tr>\n    <tr>\n      <th>211</th>\n      <td>Peek a chew</td>\n      <td>#LR0Q9LJRU</td>\n      <td>NaN</td>\n      <td>3</td>\n      <td>Mini Matter</td>\n      <td>27</td>\n      <td>0</td>\n      <td>0.000000</td>\n    </tr>\n    <tr>\n      <th>212</th>\n      <td>Bulb a Sore</td>\n      <td>#L8VJ80JP2</td>\n      <td>NaN</td>\n      <td>3</td>\n      <td>Mini Matter</td>\n      <td>27</td>\n      <td>0</td>\n      <td>0.000000</td>\n    </tr>\n  </tbody>\n</table>\n</div>"
     },
     "metadata": {},
     "execution_count": 39
    }
   ],
   "source": [
    "#Mini Matter\n",
    "mm_lpw = last_played_wars.loc[last_played_wars.Clan == \"Mini Matter\"].copy()\n",
    "mm_lpw[\"Joined Wars\"] = mm_lpw[\"Total Wars\"]\n",
    "mm_max = mm_lpw[\"Total Wars\"].max()\n",
    "mm_lpw[\"Total Wars\"] = mm_max\n",
    "mm_lpw[\"Participation\"] = mm_lpw[\"Joined Wars\"]/mm_max\n",
    "mini_matter_slackers = mm_lpw.loc[mm_lpw.Participation < .5].copy()\n",
    "mini_matter_slackers\n",
    "mm = mini_matter_slackers.to_csv(r\"C:\\Users\\tiz081\\Documents\\Clash\\Clash Activity\\mm.csv\", index = True, header = True)"
   ]
  },
  {
   "cell_type": "code",
   "execution_count": 38,
   "metadata": {},
   "outputs": [],
   "source": [
    "#Legendary Monks\n",
    "lm_lpw = last_played_wars.loc[last_played_wars.Clan == \"Legendary Monks\"].copy()\n",
    "lm_lpw[\"Joined Wars\"] = lm_lpw[\"Total Wars\"]\n",
    "lm_max = lm_lpw[\"Total Wars\"].max()\n",
    "lm_lpw[\"Total Wars\"] = lm_max\n",
    "lm_lpw[\"Participation\"] = lm_lpw[\"Joined Wars\"]/lm_max\n",
    "legendary_monks_slackers = lm_lpw.loc[lm_lpw.Participation < .5].copy()\n",
    "legendary_monks_slackers\n",
    "lm = legendary_monks_slackers.to_csv(r\"C:\\Users\\tiz081\\Documents\\Clash\\Clash Activity\\lm.csv\", index = True, header = True)"
   ]
  },
  {
   "cell_type": "code",
   "execution_count": 5,
   "metadata": {},
   "outputs": [],
   "source": [
    "#Order: Player Tag, Player Name, Clan, Total Wars, Last War\n",
    "#Tag, Name, Clan from roster // Total Wars and Last war from last_war\n",
    "#Separate by clan from roster\n",
    "#Check Total Wars less than 2 per week or 8 per season\n",
    "#Append to new list and name Warning"
   ]
  },
  {
   "cell_type": "code",
   "execution_count": 53,
   "metadata": {},
   "outputs": [
    {
     "output_type": "error",
     "ename": "ValueError",
     "evalue": "Can only compare identically-labeled Series objects",
     "traceback": [
      "\u001b[1;31m---------------------------------------------------------------------------\u001b[0m",
      "\u001b[1;31mValueError\u001b[0m                                Traceback (most recent call last)",
      "\u001b[1;32m<ipython-input-53-97b3c56f7396>\u001b[0m in \u001b[0;36m<module>\u001b[1;34m\u001b[0m\n\u001b[0;32m      7\u001b[0m \u001b[1;31m#test\u001b[0m\u001b[1;33m\u001b[0m\u001b[1;33m\u001b[0m\u001b[1;33m\u001b[0m\u001b[0m\n\u001b[0;32m      8\u001b[0m \u001b[1;32mfor\u001b[0m \u001b[0mi\u001b[0m \u001b[1;32min\u001b[0m \u001b[0mrange\u001b[0m\u001b[1;33m(\u001b[0m\u001b[0mlen\u001b[0m\u001b[1;33m(\u001b[0m\u001b[0mroster\u001b[0m\u001b[1;33m)\u001b[0m\u001b[1;33m)\u001b[0m\u001b[1;33m:\u001b[0m\u001b[1;33m\u001b[0m\u001b[1;33m\u001b[0m\u001b[0m\n\u001b[1;32m----> 9\u001b[1;33m     \u001b[0mroster\u001b[0m\u001b[1;33m[\u001b[0m\u001b[1;34m\"Total Wars\"\u001b[0m\u001b[1;33m]\u001b[0m\u001b[1;33m[\u001b[0m\u001b[0mi\u001b[0m\u001b[1;33m]\u001b[0m \u001b[1;33m=\u001b[0m \u001b[0mlast_played_wars\u001b[0m\u001b[1;33m.\u001b[0m\u001b[0mloc\u001b[0m\u001b[1;33m[\u001b[0m\u001b[0mlast_played_wars\u001b[0m\u001b[1;33m[\u001b[0m\u001b[1;34m\"Tag\"\u001b[0m\u001b[1;33m]\u001b[0m\u001b[1;33m==\u001b[0m\u001b[0mroster\u001b[0m\u001b[1;33m[\u001b[0m\u001b[1;34m\"Tag\"\u001b[0m\u001b[1;33m]\u001b[0m\u001b[1;33m,\u001b[0m \u001b[1;34m'Total Wars'\u001b[0m\u001b[1;33m]\u001b[0m\u001b[1;33m\u001b[0m\u001b[1;33m\u001b[0m\u001b[0m\n\u001b[0m\u001b[0;32m     10\u001b[0m \u001b[1;33m\u001b[0m\u001b[0m\n\u001b[0;32m     11\u001b[0m \u001b[1;31m# roster\u001b[0m\u001b[1;33m\u001b[0m\u001b[1;33m\u001b[0m\u001b[1;33m\u001b[0m\u001b[0m\n",
      "\u001b[1;32m~\\Miniconda3\\envs\\myenv\\lib\\site-packages\\pandas\\core\\ops\\common.py\u001b[0m in \u001b[0;36mnew_method\u001b[1;34m(self, other)\u001b[0m\n\u001b[0;32m     63\u001b[0m         \u001b[0mother\u001b[0m \u001b[1;33m=\u001b[0m \u001b[0mitem_from_zerodim\u001b[0m\u001b[1;33m(\u001b[0m\u001b[0mother\u001b[0m\u001b[1;33m)\u001b[0m\u001b[1;33m\u001b[0m\u001b[1;33m\u001b[0m\u001b[0m\n\u001b[0;32m     64\u001b[0m \u001b[1;33m\u001b[0m\u001b[0m\n\u001b[1;32m---> 65\u001b[1;33m         \u001b[1;32mreturn\u001b[0m \u001b[0mmethod\u001b[0m\u001b[1;33m(\u001b[0m\u001b[0mself\u001b[0m\u001b[1;33m,\u001b[0m \u001b[0mother\u001b[0m\u001b[1;33m)\u001b[0m\u001b[1;33m\u001b[0m\u001b[1;33m\u001b[0m\u001b[0m\n\u001b[0m\u001b[0;32m     66\u001b[0m \u001b[1;33m\u001b[0m\u001b[0m\n\u001b[0;32m     67\u001b[0m     \u001b[1;32mreturn\u001b[0m \u001b[0mnew_method\u001b[0m\u001b[1;33m\u001b[0m\u001b[1;33m\u001b[0m\u001b[0m\n",
      "\u001b[1;32m~\\Miniconda3\\envs\\myenv\\lib\\site-packages\\pandas\\core\\arraylike.py\u001b[0m in \u001b[0;36m__eq__\u001b[1;34m(self, other)\u001b[0m\n\u001b[0;32m     27\u001b[0m     \u001b[1;33m@\u001b[0m\u001b[0munpack_zerodim_and_defer\u001b[0m\u001b[1;33m(\u001b[0m\u001b[1;34m\"__eq__\"\u001b[0m\u001b[1;33m)\u001b[0m\u001b[1;33m\u001b[0m\u001b[1;33m\u001b[0m\u001b[0m\n\u001b[0;32m     28\u001b[0m     \u001b[1;32mdef\u001b[0m \u001b[0m__eq__\u001b[0m\u001b[1;33m(\u001b[0m\u001b[0mself\u001b[0m\u001b[1;33m,\u001b[0m \u001b[0mother\u001b[0m\u001b[1;33m)\u001b[0m\u001b[1;33m:\u001b[0m\u001b[1;33m\u001b[0m\u001b[1;33m\u001b[0m\u001b[0m\n\u001b[1;32m---> 29\u001b[1;33m         \u001b[1;32mreturn\u001b[0m \u001b[0mself\u001b[0m\u001b[1;33m.\u001b[0m\u001b[0m_cmp_method\u001b[0m\u001b[1;33m(\u001b[0m\u001b[0mother\u001b[0m\u001b[1;33m,\u001b[0m \u001b[0moperator\u001b[0m\u001b[1;33m.\u001b[0m\u001b[0meq\u001b[0m\u001b[1;33m)\u001b[0m\u001b[1;33m\u001b[0m\u001b[1;33m\u001b[0m\u001b[0m\n\u001b[0m\u001b[0;32m     30\u001b[0m \u001b[1;33m\u001b[0m\u001b[0m\n\u001b[0;32m     31\u001b[0m     \u001b[1;33m@\u001b[0m\u001b[0munpack_zerodim_and_defer\u001b[0m\u001b[1;33m(\u001b[0m\u001b[1;34m\"__ne__\"\u001b[0m\u001b[1;33m)\u001b[0m\u001b[1;33m\u001b[0m\u001b[1;33m\u001b[0m\u001b[0m\n",
      "\u001b[1;32m~\\Miniconda3\\envs\\myenv\\lib\\site-packages\\pandas\\core\\series.py\u001b[0m in \u001b[0;36m_cmp_method\u001b[1;34m(self, other, op)\u001b[0m\n\u001b[0;32m   4971\u001b[0m \u001b[1;33m\u001b[0m\u001b[0m\n\u001b[0;32m   4972\u001b[0m         \u001b[1;32mif\u001b[0m \u001b[0misinstance\u001b[0m\u001b[1;33m(\u001b[0m\u001b[0mother\u001b[0m\u001b[1;33m,\u001b[0m \u001b[0mSeries\u001b[0m\u001b[1;33m)\u001b[0m \u001b[1;32mand\u001b[0m \u001b[1;32mnot\u001b[0m \u001b[0mself\u001b[0m\u001b[1;33m.\u001b[0m\u001b[0m_indexed_same\u001b[0m\u001b[1;33m(\u001b[0m\u001b[0mother\u001b[0m\u001b[1;33m)\u001b[0m\u001b[1;33m:\u001b[0m\u001b[1;33m\u001b[0m\u001b[1;33m\u001b[0m\u001b[0m\n\u001b[1;32m-> 4973\u001b[1;33m             \u001b[1;32mraise\u001b[0m \u001b[0mValueError\u001b[0m\u001b[1;33m(\u001b[0m\u001b[1;34m\"Can only compare identically-labeled Series objects\"\u001b[0m\u001b[1;33m)\u001b[0m\u001b[1;33m\u001b[0m\u001b[1;33m\u001b[0m\u001b[0m\n\u001b[0m\u001b[0;32m   4974\u001b[0m \u001b[1;33m\u001b[0m\u001b[0m\n\u001b[0;32m   4975\u001b[0m         \u001b[0mlvalues\u001b[0m \u001b[1;33m=\u001b[0m \u001b[0mextract_array\u001b[0m\u001b[1;33m(\u001b[0m\u001b[0mself\u001b[0m\u001b[1;33m,\u001b[0m \u001b[0mextract_numpy\u001b[0m\u001b[1;33m=\u001b[0m\u001b[1;32mTrue\u001b[0m\u001b[1;33m)\u001b[0m\u001b[1;33m\u001b[0m\u001b[1;33m\u001b[0m\u001b[0m\n",
      "\u001b[1;31mValueError\u001b[0m: Can only compare identically-labeled Series objects"
     ]
    }
   ],
   "source": [
    "#format csv\n",
    "#del roster[\"TownHall\"]\n",
    "#del last_played_wars[\"Name\"]\n",
    "\n",
    "# test = pd.DataFrame()\n",
    "# test = roster[roster.set_index([\"PlayerName\",\"PlayerTag\"]).index.isin(last_played_wars.set_index(['Name','Tag']).index)]\n",
    "#test\n",
    "for i in range(len(roster)):\n",
    "    roster[\"Total Wars\"][i] = last_played_wars.loc[last_played_wars[\"Tag\"]==roster[\"Tag\"], 'Total Wars']\n",
    "\n",
    "# roster\n",
    "\n",
    "# final_roster = roster[roster.set_index([\"PlayerName\",\"PlayerTag\", \"Total Wars\", \"Last War\"]).index.isin(last_played_wars.set_index(['Name','Tag', 'Total Wars', 'Last War']).index)]\n",
    "\n",
    "# final_roster\n",
    "# for i in range(len(roster)):\n",
    "#     #check sf tag in last played war\n",
    "#     if roster[\"PlayerTag\"][i] in last_played_wars[\"Tag\"]:\n",
    "#         #grab total wars and last war with matching tag\n",
    "#         roster[\"TotalWars\"] = \n",
    "\n"
   ]
  },
  {
   "cell_type": "code",
   "execution_count": null,
   "metadata": {},
   "outputs": [],
   "source": []
  }
 ]
}