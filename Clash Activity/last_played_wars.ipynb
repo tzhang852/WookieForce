{
 "metadata": {
  "language_info": {
   "codemirror_mode": {
    "name": "ipython",
    "version": 3
   },
   "file_extension": ".py",
   "mimetype": "text/x-python",
   "name": "python",
   "nbconvert_exporter": "python",
   "pygments_lexer": "ipython3",
   "version": "3.7.10"
  },
  "orig_nbformat": 2,
  "kernelspec": {
   "name": "python3710jvsc74a57bd0361fd69f2f8dc49184db1980cd15f5ed8d74153e7acf52622b1a7fcda2fa9a08",
   "display_name": "Python 3.7.10 64-bit ('myenv': conda)"
  }
 },
 "nbformat": 4,
 "nbformat_minor": 2,
 "cells": [
  {
   "cell_type": "code",
   "execution_count": 1,
   "metadata": {},
   "outputs": [],
   "source": [
    "import pandas as pd \n",
    "import numpy as np \n",
    "import datetime as datetime"
   ]
  },
  {
   "cell_type": "code",
   "execution_count": 2,
   "metadata": {},
   "outputs": [
    {
     "output_type": "execute_result",
     "data": {
      "text/plain": [
       "             Name         Tag   Last War  Town Hall             Clan  \\\n",
       "0        marleigh   #QGCLV2J0  5/25/2021         11      Sheer Force   \n",
       "1       Kismet_27  #Q0L0VY0PQ  5/25/2021          9      Sheer Force   \n",
       "2            ZARD   #LJ92JJ8Q  5/25/2021         10      Sheer Force   \n",
       "3       Dry Dream  #LVY9R20CR  5/25/2021         10  Legendary Monks   \n",
       "4  littlesonshine   #RCV08YPR  5/25/2021         12      Sheer Force   \n",
       "\n",
       "   Total Wars  \n",
       "0          11  \n",
       "1          27  \n",
       "2          12  \n",
       "3          22  \n",
       "4          29  "
      ],
      "text/html": "<div>\n<style scoped>\n    .dataframe tbody tr th:only-of-type {\n        vertical-align: middle;\n    }\n\n    .dataframe tbody tr th {\n        vertical-align: top;\n    }\n\n    .dataframe thead th {\n        text-align: right;\n    }\n</style>\n<table border=\"1\" class=\"dataframe\">\n  <thead>\n    <tr style=\"text-align: right;\">\n      <th></th>\n      <th>Name</th>\n      <th>Tag</th>\n      <th>Last War</th>\n      <th>Town Hall</th>\n      <th>Clan</th>\n      <th>Total Wars</th>\n    </tr>\n  </thead>\n  <tbody>\n    <tr>\n      <th>0</th>\n      <td>marleigh</td>\n      <td>#QGCLV2J0</td>\n      <td>5/25/2021</td>\n      <td>11</td>\n      <td>Sheer Force</td>\n      <td>11</td>\n    </tr>\n    <tr>\n      <th>1</th>\n      <td>Kismet_27</td>\n      <td>#Q0L0VY0PQ</td>\n      <td>5/25/2021</td>\n      <td>9</td>\n      <td>Sheer Force</td>\n      <td>27</td>\n    </tr>\n    <tr>\n      <th>2</th>\n      <td>ZARD</td>\n      <td>#LJ92JJ8Q</td>\n      <td>5/25/2021</td>\n      <td>10</td>\n      <td>Sheer Force</td>\n      <td>12</td>\n    </tr>\n    <tr>\n      <th>3</th>\n      <td>Dry Dream</td>\n      <td>#LVY9R20CR</td>\n      <td>5/25/2021</td>\n      <td>10</td>\n      <td>Legendary Monks</td>\n      <td>22</td>\n    </tr>\n    <tr>\n      <th>4</th>\n      <td>littlesonshine</td>\n      <td>#RCV08YPR</td>\n      <td>5/25/2021</td>\n      <td>12</td>\n      <td>Sheer Force</td>\n      <td>29</td>\n    </tr>\n  </tbody>\n</table>\n</div>"
     },
     "metadata": {},
     "execution_count": 2
    }
   ],
   "source": [
    "#read in last_played_wars csv\n",
    "last_played_wars = pd.read_csv(\"updated_last_played_wars.csv\")\n",
    "#read in roster\n",
    "roster = pd.read_csv(\"fullroster.csv\") #sheerforce edit\n",
    "roster.columns = [\"Tag\", \"Name\", \"Town Hall\", \"Clan\"]\n",
    "#last_played_wars = last_played_wars.drop(columns = [\"Total Wars\"])\n",
    "\n",
    "# last_played_wars[\"Participation\"] = last_played_wars[\"Joined Wars\"] / last_played_wars[\"Total Wars\"]\n",
    "last_played_wars = last_played_wars[[\"Name\", \"Tag\", \"Last War\", \"Town Hall\", \"Clan\", \"Total Wars\"]]\n",
    "last_played_wars.head()\n"
   ]
  },
  {
   "cell_type": "code",
   "execution_count": 8,
   "metadata": {},
   "outputs": [
    {
     "output_type": "execute_result",
     "data": {
      "text/plain": [
       "       Name         Tag   Last War  Town Hall         Clan  Total Wars  \\\n",
       "0  marleigh   #QGCLV2J0  5/25/2021         11  Sheer Force          29   \n",
       "2      ZARD   #LJ92JJ8Q  5/25/2021         10  Sheer Force          29   \n",
       "6    Anubis  #LC2Q8UPGP  5/25/2021          9  Sheer Force          29   \n",
       "7     Sloth  #Y9V8LUCLQ  5/25/2021          9  Sheer Force          29   \n",
       "8  FredTime  #LV9CQQUR9  5/25/2021          9  Sheer Force          29   \n",
       "\n",
       "   Joined Wars  Participation  \n",
       "0           11       0.379310  \n",
       "2           12       0.413793  \n",
       "6            5       0.172414  \n",
       "7            2       0.068966  \n",
       "8            9       0.310345  "
      ],
      "text/html": "<div>\n<style scoped>\n    .dataframe tbody tr th:only-of-type {\n        vertical-align: middle;\n    }\n\n    .dataframe tbody tr th {\n        vertical-align: top;\n    }\n\n    .dataframe thead th {\n        text-align: right;\n    }\n</style>\n<table border=\"1\" class=\"dataframe\">\n  <thead>\n    <tr style=\"text-align: right;\">\n      <th></th>\n      <th>Name</th>\n      <th>Tag</th>\n      <th>Last War</th>\n      <th>Town Hall</th>\n      <th>Clan</th>\n      <th>Total Wars</th>\n      <th>Joined Wars</th>\n      <th>Participation</th>\n    </tr>\n  </thead>\n  <tbody>\n    <tr>\n      <th>0</th>\n      <td>marleigh</td>\n      <td>#QGCLV2J0</td>\n      <td>5/25/2021</td>\n      <td>11</td>\n      <td>Sheer Force</td>\n      <td>29</td>\n      <td>11</td>\n      <td>0.379310</td>\n    </tr>\n    <tr>\n      <th>2</th>\n      <td>ZARD</td>\n      <td>#LJ92JJ8Q</td>\n      <td>5/25/2021</td>\n      <td>10</td>\n      <td>Sheer Force</td>\n      <td>29</td>\n      <td>12</td>\n      <td>0.413793</td>\n    </tr>\n    <tr>\n      <th>6</th>\n      <td>Anubis</td>\n      <td>#LC2Q8UPGP</td>\n      <td>5/25/2021</td>\n      <td>9</td>\n      <td>Sheer Force</td>\n      <td>29</td>\n      <td>5</td>\n      <td>0.172414</td>\n    </tr>\n    <tr>\n      <th>7</th>\n      <td>Sloth</td>\n      <td>#Y9V8LUCLQ</td>\n      <td>5/25/2021</td>\n      <td>9</td>\n      <td>Sheer Force</td>\n      <td>29</td>\n      <td>2</td>\n      <td>0.068966</td>\n    </tr>\n    <tr>\n      <th>8</th>\n      <td>FredTime</td>\n      <td>#LV9CQQUR9</td>\n      <td>5/25/2021</td>\n      <td>9</td>\n      <td>Sheer Force</td>\n      <td>29</td>\n      <td>9</td>\n      <td>0.310345</td>\n    </tr>\n  </tbody>\n</table>\n</div>"
     },
     "metadata": {},
     "execution_count": 8
    }
   ],
   "source": [
    "#Split Last Played Wars by clan\n",
    "#Sheer Force\n",
    "\n",
    "#Create a copy of Sheer Force only to manipulate\n",
    "sf_lpw = last_played_wars.loc[last_played_wars.Clan == \"Sheer Force\"].copy()\n",
    "#Joined Wars of clan member\n",
    "sf_lpw[\"Joined Wars\"] = sf_lpw[\"Total Wars\"]\n",
    "#get maximum number of wars this season\n",
    "sf_max = sf_lpw[\"Total Wars\"].max()\n",
    "sf_lpw[\"Total Wars\"] = sf_max\n",
    "#find participation of members\n",
    "sf_lpw[\"Participation\"] = sf_lpw[\"Joined Wars\"]/sf_max\n",
    "#get < 50% participation members and add to slackers\n",
    "sheer_force_slackers = sf_lpw.loc[sf_lpw.Participation < .5].copy()\n",
    "sheer_force_slackers.head()\n",
    "#sf = sheer_force_slackers.to_csv(r\"C:\\Users\\tiz081\\Documents\\Clash\\Clash Activity\\sf.csv\", index = True, header = True)"
   ]
  },
  {
   "cell_type": "code",
   "execution_count": 9,
   "metadata": {},
   "outputs": [
    {
     "output_type": "execute_result",
     "data": {
      "text/plain": [
       "         Name         Tag   Last War  Town Hall         Clan  Total Wars  \\\n",
       "65      bibhu  #9R9JP000V  5/24/2021         11  Dark Matter          28   \n",
       "70   The Dude  #8P0YU0098  5/24/2021         14  Dark Matter          28   \n",
       "81       Luca   #8J2LGRUU  5/24/2021         11  Dark Matter          28   \n",
       "83     djdrng    #V0UQ2LC  5/24/2021         10  Dark Matter          28   \n",
       "120  Dagerson   #V9LQRUJR  5/22/2021         10  Dark Matter          28   \n",
       "\n",
       "     Joined Wars  Participation  \n",
       "65             2       0.071429  \n",
       "70             2       0.071429  \n",
       "81            13       0.464286  \n",
       "83             3       0.107143  \n",
       "120            3       0.107143  "
      ],
      "text/html": "<div>\n<style scoped>\n    .dataframe tbody tr th:only-of-type {\n        vertical-align: middle;\n    }\n\n    .dataframe tbody tr th {\n        vertical-align: top;\n    }\n\n    .dataframe thead th {\n        text-align: right;\n    }\n</style>\n<table border=\"1\" class=\"dataframe\">\n  <thead>\n    <tr style=\"text-align: right;\">\n      <th></th>\n      <th>Name</th>\n      <th>Tag</th>\n      <th>Last War</th>\n      <th>Town Hall</th>\n      <th>Clan</th>\n      <th>Total Wars</th>\n      <th>Joined Wars</th>\n      <th>Participation</th>\n    </tr>\n  </thead>\n  <tbody>\n    <tr>\n      <th>65</th>\n      <td>bibhu</td>\n      <td>#9R9JP000V</td>\n      <td>5/24/2021</td>\n      <td>11</td>\n      <td>Dark Matter</td>\n      <td>28</td>\n      <td>2</td>\n      <td>0.071429</td>\n    </tr>\n    <tr>\n      <th>70</th>\n      <td>The Dude</td>\n      <td>#8P0YU0098</td>\n      <td>5/24/2021</td>\n      <td>14</td>\n      <td>Dark Matter</td>\n      <td>28</td>\n      <td>2</td>\n      <td>0.071429</td>\n    </tr>\n    <tr>\n      <th>81</th>\n      <td>Luca</td>\n      <td>#8J2LGRUU</td>\n      <td>5/24/2021</td>\n      <td>11</td>\n      <td>Dark Matter</td>\n      <td>28</td>\n      <td>13</td>\n      <td>0.464286</td>\n    </tr>\n    <tr>\n      <th>83</th>\n      <td>djdrng</td>\n      <td>#V0UQ2LC</td>\n      <td>5/24/2021</td>\n      <td>10</td>\n      <td>Dark Matter</td>\n      <td>28</td>\n      <td>3</td>\n      <td>0.107143</td>\n    </tr>\n    <tr>\n      <th>120</th>\n      <td>Dagerson</td>\n      <td>#V9LQRUJR</td>\n      <td>5/22/2021</td>\n      <td>10</td>\n      <td>Dark Matter</td>\n      <td>28</td>\n      <td>3</td>\n      <td>0.107143</td>\n    </tr>\n  </tbody>\n</table>\n</div>"
     },
     "metadata": {},
     "execution_count": 9
    }
   ],
   "source": [
    "#Dark Matter\n",
    "dm_lpw = last_played_wars.loc[last_played_wars.Clan == \"Dark Matter\"].copy()\n",
    "dm_lpw[\"Joined Wars\"] = dm_lpw[\"Total Wars\"]\n",
    "dm_max = dm_lpw[\"Total Wars\"].max()\n",
    "dm_lpw[\"Total Wars\"] = dm_max\n",
    "dm_lpw[\"Participation\"] = dm_lpw[\"Joined Wars\"]/dm_max\n",
    "dark_matter_slackers = dm_lpw.loc[dm_lpw.Participation < .5].copy()\n",
    "dark_matter_slackers.head()\n",
    "#dm = dark_matter_slackers.to_csv(r\"C:\\Users\\tiz081\\Documents\\Clash\\Clash Activity\\dm.csv\", index = True, header = True)"
   ]
  },
  {
   "cell_type": "code",
   "execution_count": 10,
   "metadata": {},
   "outputs": [
    {
     "output_type": "execute_result",
     "data": {
      "text/plain": [
       "               Name         Tag   Last War  Town Hall         Clan  \\\n",
       "90           goblin  #Q0CGY89Y2  5/23/2021          6  Mini Matter   \n",
       "91  Alex The Strong  #Q9PU2PJJL  5/23/2021          6  Mini Matter   \n",
       "92            edgar  #QY02090U2  5/23/2021          3  Mini Matter   \n",
       "93         Krakatoa  #Q2UQQPGPP  5/23/2021          5  Mini Matter   \n",
       "94           Kinoko  #Q00VVVL9U  5/23/2021          6  Mini Matter   \n",
       "\n",
       "    Total Wars  Joined Wars  Participation  \n",
       "90          27            5       0.185185  \n",
       "91          27            9       0.333333  \n",
       "92          27            1       0.037037  \n",
       "93          27            8       0.296296  \n",
       "94          27           12       0.444444  "
      ],
      "text/html": "<div>\n<style scoped>\n    .dataframe tbody tr th:only-of-type {\n        vertical-align: middle;\n    }\n\n    .dataframe tbody tr th {\n        vertical-align: top;\n    }\n\n    .dataframe thead th {\n        text-align: right;\n    }\n</style>\n<table border=\"1\" class=\"dataframe\">\n  <thead>\n    <tr style=\"text-align: right;\">\n      <th></th>\n      <th>Name</th>\n      <th>Tag</th>\n      <th>Last War</th>\n      <th>Town Hall</th>\n      <th>Clan</th>\n      <th>Total Wars</th>\n      <th>Joined Wars</th>\n      <th>Participation</th>\n    </tr>\n  </thead>\n  <tbody>\n    <tr>\n      <th>90</th>\n      <td>goblin</td>\n      <td>#Q0CGY89Y2</td>\n      <td>5/23/2021</td>\n      <td>6</td>\n      <td>Mini Matter</td>\n      <td>27</td>\n      <td>5</td>\n      <td>0.185185</td>\n    </tr>\n    <tr>\n      <th>91</th>\n      <td>Alex The Strong</td>\n      <td>#Q9PU2PJJL</td>\n      <td>5/23/2021</td>\n      <td>6</td>\n      <td>Mini Matter</td>\n      <td>27</td>\n      <td>9</td>\n      <td>0.333333</td>\n    </tr>\n    <tr>\n      <th>92</th>\n      <td>edgar</td>\n      <td>#QY02090U2</td>\n      <td>5/23/2021</td>\n      <td>3</td>\n      <td>Mini Matter</td>\n      <td>27</td>\n      <td>1</td>\n      <td>0.037037</td>\n    </tr>\n    <tr>\n      <th>93</th>\n      <td>Krakatoa</td>\n      <td>#Q2UQQPGPP</td>\n      <td>5/23/2021</td>\n      <td>5</td>\n      <td>Mini Matter</td>\n      <td>27</td>\n      <td>8</td>\n      <td>0.296296</td>\n    </tr>\n    <tr>\n      <th>94</th>\n      <td>Kinoko</td>\n      <td>#Q00VVVL9U</td>\n      <td>5/23/2021</td>\n      <td>6</td>\n      <td>Mini Matter</td>\n      <td>27</td>\n      <td>12</td>\n      <td>0.444444</td>\n    </tr>\n  </tbody>\n</table>\n</div>"
     },
     "metadata": {},
     "execution_count": 10
    }
   ],
   "source": [
    "#Mini Matter\n",
    "mm_lpw = last_played_wars.loc[last_played_wars.Clan == \"Mini Matter\"].copy()\n",
    "mm_lpw[\"Joined Wars\"] = mm_lpw[\"Total Wars\"]\n",
    "mm_max = mm_lpw[\"Total Wars\"].max()\n",
    "mm_lpw[\"Total Wars\"] = mm_max\n",
    "mm_lpw[\"Participation\"] = mm_lpw[\"Joined Wars\"]/mm_max\n",
    "mini_matter_slackers = mm_lpw.loc[mm_lpw.Participation < .5].copy()\n",
    "mini_matter_slackers.head()\n",
    "#mm = mini_matter_slackers.to_csv(r\"C:\\Users\\tiz081\\Documents\\Clash\\Clash Activity\\mm.csv\", index = True, header = True)"
   ]
  },
  {
   "cell_type": "code",
   "execution_count": 11,
   "metadata": {},
   "outputs": [
    {
     "output_type": "execute_result",
     "data": {
      "text/plain": [
       "              Name         Tag   Last War  Town Hall             Clan  \\\n",
       "37       verbxtiim  #YRJ8YUVLU  5/24/2021          8  Legendary Monks   \n",
       "41     Designerpog  #QP2LUC009  5/24/2021          7  Legendary Monks   \n",
       "42         Kruptos  #Q9CP8QJJR  5/24/2021          9  Legendary Monks   \n",
       "43       smooth-ie  #LVQQG9JJV  5/24/2021          8  Legendary Monks   \n",
       "46  ⚔️FC Warrior⚔️  #LVJ0LPCU9  5/24/2021          7  Legendary Monks   \n",
       "\n",
       "    Total Wars  Joined Wars  Participation  \n",
       "37          28           13       0.464286  \n",
       "41          28            5       0.178571  \n",
       "42          28           13       0.464286  \n",
       "43          28            4       0.142857  \n",
       "46          28           12       0.428571  "
      ],
      "text/html": "<div>\n<style scoped>\n    .dataframe tbody tr th:only-of-type {\n        vertical-align: middle;\n    }\n\n    .dataframe tbody tr th {\n        vertical-align: top;\n    }\n\n    .dataframe thead th {\n        text-align: right;\n    }\n</style>\n<table border=\"1\" class=\"dataframe\">\n  <thead>\n    <tr style=\"text-align: right;\">\n      <th></th>\n      <th>Name</th>\n      <th>Tag</th>\n      <th>Last War</th>\n      <th>Town Hall</th>\n      <th>Clan</th>\n      <th>Total Wars</th>\n      <th>Joined Wars</th>\n      <th>Participation</th>\n    </tr>\n  </thead>\n  <tbody>\n    <tr>\n      <th>37</th>\n      <td>verbxtiim</td>\n      <td>#YRJ8YUVLU</td>\n      <td>5/24/2021</td>\n      <td>8</td>\n      <td>Legendary Monks</td>\n      <td>28</td>\n      <td>13</td>\n      <td>0.464286</td>\n    </tr>\n    <tr>\n      <th>41</th>\n      <td>Designerpog</td>\n      <td>#QP2LUC009</td>\n      <td>5/24/2021</td>\n      <td>7</td>\n      <td>Legendary Monks</td>\n      <td>28</td>\n      <td>5</td>\n      <td>0.178571</td>\n    </tr>\n    <tr>\n      <th>42</th>\n      <td>Kruptos</td>\n      <td>#Q9CP8QJJR</td>\n      <td>5/24/2021</td>\n      <td>9</td>\n      <td>Legendary Monks</td>\n      <td>28</td>\n      <td>13</td>\n      <td>0.464286</td>\n    </tr>\n    <tr>\n      <th>43</th>\n      <td>smooth-ie</td>\n      <td>#LVQQG9JJV</td>\n      <td>5/24/2021</td>\n      <td>8</td>\n      <td>Legendary Monks</td>\n      <td>28</td>\n      <td>4</td>\n      <td>0.142857</td>\n    </tr>\n    <tr>\n      <th>46</th>\n      <td>⚔️FC Warrior⚔️</td>\n      <td>#LVJ0LPCU9</td>\n      <td>5/24/2021</td>\n      <td>7</td>\n      <td>Legendary Monks</td>\n      <td>28</td>\n      <td>12</td>\n      <td>0.428571</td>\n    </tr>\n  </tbody>\n</table>\n</div>"
     },
     "metadata": {},
     "execution_count": 11
    }
   ],
   "source": [
    "#Legendary Monks\n",
    "lm_lpw = last_played_wars.loc[last_played_wars.Clan == \"Legendary Monks\"].copy()\n",
    "lm_lpw[\"Joined Wars\"] = lm_lpw[\"Total Wars\"]\n",
    "lm_max = lm_lpw[\"Total Wars\"].max()\n",
    "lm_lpw[\"Total Wars\"] = lm_max\n",
    "lm_lpw[\"Participation\"] = lm_lpw[\"Joined Wars\"]/lm_max\n",
    "legendary_monks_slackers = lm_lpw.loc[lm_lpw.Participation < .5].copy()\n",
    "legendary_monks_slackers.head()\n",
    "#lm = legendary_monks_slackers.to_csv(r\"C:\\Users\\tiz081\\Documents\\Clash\\Clash Activity\\lm.csv\", index = True, header = True)"
   ]
  },
  {
   "cell_type": "code",
   "execution_count": null,
   "metadata": {},
   "outputs": [],
   "source": []
  }
 ]
}